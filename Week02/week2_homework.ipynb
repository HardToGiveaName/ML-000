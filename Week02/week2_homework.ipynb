{
  "nbformat": 4,
  "nbformat_minor": 0,
  "metadata": {
    "colab": {
      "name": "week2_homework.ipynb",
      "provenance": [],
      "collapsed_sections": [],
      "toc_visible": true,
      "authorship_tag": "ABX9TyPllB0zm4qUTSvNxY/1SFxG",
      "include_colab_link": true
    },
    "kernelspec": {
      "name": "python3",
      "display_name": "Python 3"
    }
  },
  "cells": [
    {
      "cell_type": "markdown",
      "metadata": {
        "id": "view-in-github",
        "colab_type": "text"
      },
      "source": [
        "<a href=\"https://colab.research.google.com/github/HardToGiveaName/ML-000/blob/main/Week02/week2_homework.ipynb\" target=\"_parent\"><img src=\"https://colab.research.google.com/assets/colab-badge.svg\" alt=\"Open In Colab\"/></a>"
      ]
    },
    {
      "cell_type": "markdown",
      "metadata": {
        "id": "JWYXO1HDO6uO"
      },
      "source": [
        "# Week2 Homework\r\n",
        "\r\n",
        "将 `target_encoding` 进行加速"
      ]
    },
    {
      "cell_type": "markdown",
      "metadata": {
        "id": "Q0HfYMwKPbeR"
      },
      "source": [
        "## 原始代码"
      ]
    },
    {
      "cell_type": "code",
      "metadata": {
        "id": "nyg55YBpPQoi"
      },
      "source": [
        "import numpy as np\r\n",
        "import pandas as pd\r\n",
        "\r\n",
        "def target_mean_v1(data, y_name, x_name):\r\n",
        "    result = np.zeros(data.shape[0])\r\n",
        "    for i in range(data.shape[0]):\r\n",
        "        groupby_result = data[data.index != i].groupby([x_name], as_index=False).agg(['mean', 'count'])\r\n",
        "        result[i] = groupby_result.loc[groupby_result.index == data.loc[i, x_name], (y_name, 'mean')]\r\n",
        "    return result"
      ],
      "execution_count": 117,
      "outputs": []
    },
    {
      "cell_type": "code",
      "metadata": {
        "colab": {
          "base_uri": "https://localhost:8080/"
        },
        "id": "m-Xj8fbWQCcH",
        "outputId": "a067332c-4fb9-46cb-c45c-d64f684b79df"
      },
      "source": [
        "y = np.random.randint(2, size=(500, 1))\r\n",
        "x = np.random.randint(10, size=(500, 1))\r\n",
        "data = pd.DataFrame(np.concatenate([y, x], axis=1), columns=['y', 'x'])\r\n",
        "%timeit -n 1 target_mean_v1(data, 'y', 'x')"
      ],
      "execution_count": 135,
      "outputs": [
        {
          "output_type": "stream",
          "text": [
            "1 loop, best of 3: 2.33 s per loop\n"
          ],
          "name": "stdout"
        }
      ]
    },
    {
      "cell_type": "markdown",
      "metadata": {
        "id": "L-cT3TsAdv-4"
      },
      "source": [
        "## 代码含义\r\n",
        "获取排除本行后，与本行关键字(x_name)相同的y_name样本的均值\r\n",
        "`target_mean_v1` 函数接受3个参数  \r\n",
        "- param1: shape为(N, 2)的DataFrame  \r\n",
        "- param2: 非groupby使用的key_col_name  \r\n",
        "- param3: groupby使用的key_col_name  \r\n",
        "\r\n",
        "1. 逐行遍历, 将非本行的dataframe根据key_col_name进行groupby操作，并将 `mean` 及 `count` 聚合(agg)  \r\n",
        "2. 将聚合后的mean数据，回写  \r\n",
        "\r\n",
        "很明显，这段代码在遍历的过程中，执行了N次的groupby操作，时间复杂度较高"
      ]
    },
    {
      "cell_type": "markdown",
      "metadata": {
        "id": "UuZVwnqZfw02"
      },
      "source": [
        "## 优化版本1\r\n",
        "python代码级别的优化，遍历一次，将数据预取，最终在计算时进行排除"
      ]
    },
    {
      "cell_type": "code",
      "metadata": {
        "id": "MbsYVaTFgex3"
      },
      "source": [
        "def target_mean_v2(data, y_name, x_name):\r\n",
        "    result = np.zeros(data.shape[0])\r\n",
        "    value_dict = dict()\r\n",
        "    count_dict = dict()\r\n",
        "    for i in range(data.shape[0]):\r\n",
        "        if data.loc[i, x_name] in value_dict.keys():\r\n",
        "            count_dict[data.loc[i, x_name]] += 1\r\n",
        "            value_dict[data.loc[i, x_name]] += data.loc[i, y_name]\r\n",
        "        else:\r\n",
        "            count_dict[data.loc[i, x_name]] = 1\r\n",
        "            value_dict[data.loc[i, x_name]] = data.loc[i, y_name]\r\n",
        "    for i in range(data.shape[0]):\r\n",
        "        result[i] = (value_dict[data.loc[i, x_name]] - data.loc[i, y_name]) / (count_dict[data.loc[i, x_name]] - 1)\r\n",
        "    return result"
      ],
      "execution_count": 140,
      "outputs": []
    },
    {
      "cell_type": "code",
      "metadata": {
        "colab": {
          "base_uri": "https://localhost:8080/"
        },
        "id": "XXPwD0-OiZ3U",
        "outputId": "935f6bec-f64b-453e-d9e8-649f64d1055d"
      },
      "source": [
        "# Test correct\r\n",
        "#ret1 = target_mean_v1(data, 'y', 'x')\r\n",
        "#ret2 = target_mean_v2(data, 'y', 'x')\r\n",
        "#diff = np.linalg.norm(ret1 - ret2)\r\n",
        "#print(diff)\r\n",
        "%timeit -n 1 target_mean_v2(data, 'y', 'x')"
      ],
      "execution_count": 142,
      "outputs": [
        {
          "output_type": "stream",
          "text": [
            "1 loop, best of 3: 28 ms per loop\n"
          ],
          "name": "stdout"
        }
      ]
    },
    {
      "cell_type": "markdown",
      "metadata": {
        "id": "rhc05wr-jt-C"
      },
      "source": [
        "## 优化版本2\r\n",
        "\r\n",
        "通过v2代码，可以看到在循环中大量引用 `data.loc[i, x_name]` 及 `data.loc[i, y_name]` 之处, 如果能够在使用前替换成栈变量，将会大大提速"
      ]
    },
    {
      "cell_type": "code",
      "metadata": {
        "id": "zS82QdurkFFw"
      },
      "source": [
        "def target_mean_v3(data, y_name, x_name):\r\n",
        "    result = np.zeros(data.shape[0])\r\n",
        "    value_dict = dict()\r\n",
        "    count_dict = dict()\r\n",
        "    x_val_series = data.loc[:, x_name]\r\n",
        "    y_val_series = data.loc[:, y_name]\r\n",
        "    for i in range(data.shape[0]):\r\n",
        "        x_tmp_index = x_val_series[i]\r\n",
        "        y_tmp_index = y_val_series[i]\r\n",
        "        if x_tmp_index in value_dict.keys():\r\n",
        "            count_dict[x_tmp_index] += 1\r\n",
        "            value_dict[x_tmp_index] += y_tmp_index\r\n",
        "        else:\r\n",
        "            count_dict[x_tmp_index] = 1\r\n",
        "            value_dict[x_tmp_index] = y_tmp_index\r\n",
        "    for i in range(data.shape[0]):\r\n",
        "        result[i] = (value_dict[x_val_series[i]] - y_val_series[i]) / (count_dict[x_val_series[i]] - 1)\r\n",
        "    return result"
      ],
      "execution_count": 270,
      "outputs": []
    },
    {
      "cell_type": "code",
      "metadata": {
        "colab": {
          "base_uri": "https://localhost:8080/"
        },
        "id": "VDX9ialBmZee",
        "outputId": "6f881b46-c86b-4bcc-ec89-0321ca84b8ea"
      },
      "source": [
        "# Test correct\r\n",
        "#ret1 = target_mean_v2(data, 'y', 'x')\r\n",
        "#ret2 = target_mean_v3(data, 'y', 'x')\r\n",
        "#diff = np.linalg.norm(ret1 - ret2)\r\n",
        "#print(diff)\r\n",
        "%timeit -n 1 target_mean_v3(data, 'y', 'x')"
      ],
      "execution_count": 271,
      "outputs": [
        {
          "output_type": "stream",
          "text": [
            "1 loop, best of 3: 10.7 ms per loop\n"
          ],
          "name": "stdout"
        }
      ]
    },
    {
      "cell_type": "markdown",
      "metadata": {
        "id": "uqVw6Euc7d_7"
      },
      "source": [
        "## 优化版本3\r\n",
        "\r\n",
        "偶然间发现，data.loc[:, x_name]的类型为 pd.Series  \r\n",
        "通过 .values 方法将其转换为 np.ndarray, 将会大大提速"
      ]
    },
    {
      "cell_type": "code",
      "metadata": {
        "colab": {
          "base_uri": "https://localhost:8080/"
        },
        "id": "N4ylskoS725R",
        "outputId": "2c58981d-4282-415c-a3c6-d957e94d933a"
      },
      "source": [
        "print(type(data.loc[:, 'x']))\r\n",
        "print(type(data.loc[:, 'x'].values))"
      ],
      "execution_count": 235,
      "outputs": [
        {
          "output_type": "stream",
          "text": [
            "<class 'pandas.core.series.Series'>\n",
            "<class 'numpy.ndarray'>\n"
          ],
          "name": "stdout"
        }
      ]
    },
    {
      "cell_type": "code",
      "metadata": {
        "id": "C1fewKFR7enQ"
      },
      "source": [
        "def target_mean_v4(data, y_name, x_name):\r\n",
        "    result = np.zeros(data.shape[0])\r\n",
        "    value_dict = dict()\r\n",
        "    count_dict = dict()\r\n",
        "    x_val_series = data.loc[:, x_name].values\r\n",
        "    y_val_series = data.loc[:, y_name].values\r\n",
        "    for i in range(data.shape[0]):\r\n",
        "        x_tmp_index = x_val_series[i]\r\n",
        "        y_tmp_index = y_val_series[i]\r\n",
        "        if x_tmp_index in value_dict.keys():\r\n",
        "            count_dict[x_tmp_index] += 1\r\n",
        "            value_dict[x_tmp_index] += y_tmp_index\r\n",
        "        else:\r\n",
        "            count_dict[x_tmp_index] = 1\r\n",
        "            value_dict[x_tmp_index] = y_tmp_index\r\n",
        "    for i in range(data.shape[0]):\r\n",
        "        result[i] = (value_dict[x_val_series[i]] - y_val_series[i]) / (count_dict[x_val_series[i]] - 1)\r\n",
        "    return result"
      ],
      "execution_count": 272,
      "outputs": []
    },
    {
      "cell_type": "code",
      "metadata": {
        "colab": {
          "base_uri": "https://localhost:8080/"
        },
        "id": "XWcS60xx8Wtn",
        "outputId": "b75dc40a-fa50-4dda-c10f-f2f871ebed26"
      },
      "source": [
        "# Test correct\r\n",
        "#ret1 = target_mean_v3(data, 'y', 'x')\r\n",
        "#ret2 = target_mean_v4(data, 'y', 'x')\r\n",
        "#diff = np.linalg.norm(ret1 - ret2)\r\n",
        "#print(diff)\r\n",
        "%timeit -n 1 target_mean_v4(data, 'y', 'x')"
      ],
      "execution_count": 251,
      "outputs": [
        {
          "output_type": "stream",
          "text": [
            "1 loop, best of 3: 993 µs per loop\n"
          ],
          "name": "stdout"
        }
      ]
    },
    {
      "cell_type": "markdown",
      "metadata": {
        "id": "vH7lvg8amTD9"
      },
      "source": [
        "## 优化版本4\r\n",
        "将数据结构改造成cython版本\r\n",
        "np.ndarray -> cnp.ndarray\r\n",
        "python.dict -> cython.dict"
      ]
    },
    {
      "cell_type": "code",
      "metadata": {
        "colab": {
          "base_uri": "https://localhost:8080/"
        },
        "id": "gsDbWKvEz1sH",
        "outputId": "54059c32-2e60-4ae6-c18b-0f9837e46d97"
      },
      "source": [
        "%load_ext cython"
      ],
      "execution_count": 171,
      "outputs": [
        {
          "output_type": "stream",
          "text": [
            "The cython extension is already loaded. To reload it, use:\n",
            "  %reload_ext cython\n"
          ],
          "name": "stdout"
        }
      ]
    },
    {
      "cell_type": "code",
      "metadata": {
        "id": "y-uFBhODkGxC"
      },
      "source": [
        "%%cython -a\r\n",
        "\r\n",
        "import numpy as np\r\n",
        "cimport numpy as cnp\r\n",
        "import pandas as pd\r\n",
        "\r\n",
        "def target_mean_v5(data, y_name, x_name):\r\n",
        "    result = np.zeros(data.shape[0])\r\n",
        "    cdef:\r\n",
        "        #cdef cnp.ndarray[cnp.int_t, ndim=1] result = np.zeros(data.shape[0], dtype='int32')\r\n",
        "        dict value_dict = {}\r\n",
        "        dict count_dict = {}\r\n",
        "        cnp.ndarray[cnp.int_t] x_val_series = data.loc[:, x_name].values\r\n",
        "        cnp.ndarray[cnp.int_t] y_val_series = data.loc[:, y_name].values\r\n",
        "    for i in range(data.shape[0]):\r\n",
        "        x_tmp_index = x_val_series[i]\r\n",
        "        y_tmp_index = y_val_series[i]\r\n",
        "        if x_tmp_index in value_dict.keys():\r\n",
        "            count_dict[x_tmp_index] += 1\r\n",
        "            value_dict[x_tmp_index] += y_tmp_index\r\n",
        "        else:\r\n",
        "            count_dict[x_tmp_index] = 1\r\n",
        "            value_dict[x_tmp_index] = y_tmp_index\r\n",
        "    for i in range(data.shape[0]):\r\n",
        "        result[i] = (value_dict[x_val_series[i]] - y_val_series[i]) / (count_dict[x_val_series[i]] - 1)\r\n",
        "    return result"
      ],
      "execution_count": null,
      "outputs": []
    },
    {
      "cell_type": "code",
      "metadata": {
        "colab": {
          "base_uri": "https://localhost:8080/"
        },
        "id": "FuMEFIcFzq3-",
        "outputId": "a0df6a01-d1a4-4414-ff2a-35dc2a833d3c"
      },
      "source": [
        "# Test correct\r\n",
        "#ret1 = target_mean_v4(data, 'y', 'x')\r\n",
        "#ret2 = target_mean_v5(data, 'y', 'x')\r\n",
        "#diff = np.linalg.norm(ret1 - ret2)\r\n",
        "#print(diff)\r\n",
        "%timeit -n 100 target_mean_v5(data, 'y', 'x')"
      ],
      "execution_count": 267,
      "outputs": [
        {
          "output_type": "stream",
          "text": [
            "100 loops, best of 3: 864 µs per loop\n"
          ],
          "name": "stdout"
        }
      ]
    },
    {
      "cell_type": "code",
      "metadata": {
        "colab": {
          "base_uri": "https://localhost:8080/"
        },
        "id": "PL-euw6jakdT",
        "outputId": "26cb15a4-661c-4c87-b5fb-287dd7eb55a3"
      },
      "source": [
        "%timeit -n 1 target_mean_v1(data, 'y', 'x')\r\n",
        "%timeit -n 1 target_mean_v2(data, 'y', 'x')\r\n",
        "%timeit -n 100 target_mean_v3(data, 'y', 'x')\r\n",
        "%timeit -n 100 target_mean_v4(data, 'y', 'x')\r\n",
        "%timeit -n 100 target_mean_v5(data, 'y', 'x')"
      ],
      "execution_count": 276,
      "outputs": [
        {
          "output_type": "stream",
          "text": [
            "1 loop, best of 3: 2.34 s per loop\n",
            "1 loop, best of 3: 26.8 ms per loop\n",
            "100 loops, best of 3: 9.28 ms per loop\n",
            "100 loops, best of 3: 940 µs per loop\n",
            "100 loops, best of 3: 789 µs per loop\n"
          ],
          "name": "stdout"
        }
      ]
    },
    {
      "cell_type": "markdown",
      "metadata": {
        "id": "pgRoc6pxABEp"
      },
      "source": [
        "## 优化效果\r\n",
        "纯python代码，由2.34s优化到940us，速度提升 2489倍\r\n",
        "cython代码，由940us优化到789us，速度提升1.19倍，cython版本仍有优化空间，待继续探索如何更好地使用cython提升效率"
      ]
    }
  ]
}